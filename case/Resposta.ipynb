{
  "cells": [
    {
      "cell_type": "raw",
      "metadata": {},
      "source": [
        "---\n",
        "title: \"Estudo de caso Inovativa: ImpactHub Floripa\"\n",
        "author: \"Marcus Antonio Cardoso Ramalho\"\n",
        "date: \"24/07/2023\"\n",
        "format: pdf\n",
        "editor: visual\n",
        "---"
      ],
      "id": "d1673615"
    },
    {
      "cell_type": "markdown",
      "metadata": {},
      "source": [
        "## Contexto\n",
        "\n",
        "Este relatório tem como objetivo apresentar uma análise exploratória dos dados disponibilizados pela equipe de recrutamento do ImpactHub Floripa. O relatório foi elaborado usando as linguagems R e python com sistema QUARTO. Além disso, também foi desenvolvido um app dashboard usando o framework streamlit em python para visualização de alguns dos indicadores identificados. Os arquivos resultantes estão disponíveis no repositório do github.\n",
        "\n",
        "Dashboard: <https://inovativa-impacth.streamlit.app/>\n",
        "\n",
        "Github: <https://github.com/nextmarte/Inovativa-impacthub-case>\n",
        "\n",
        "## Visão dos dados\n",
        "\n",
        "A tabela disponibilizada possui 50 observações e 19 variáveis. Os dados foram baixados diretamente da planilha google disponibilizada pela equipe de recrutamento usando um script em R. Foi calculada uma nova variável para mensurar a variação no faturamento dos participantes, além disso, alguns rótulos foram modificados para facilitar a manipulação e plotagem dos dados.\n"
      ],
      "id": "4f8a0deb"
    },
    {
      "cell_type": "code",
      "metadata": {
        "md-indent": " "
      },
      "source": [
        "import pandas as pd\n",
        "df = pd.read_csv('Dados_Hub.csv')\n",
        "   df.head()"
      ],
      "id": "26e0a021",
      "execution_count": null,
      "outputs": []
    },
    {
      "cell_type": "markdown",
      "metadata": {},
      "source": [
        "Os dados são em sua maioria categóricos pois descrevem as características dos participantes e suas percepções sobre a participação no programa, porém, existem dados numéricos relacionados a faturamento e empregos gerados"
      ],
      "id": "01af149c"
    }
  ],
  "metadata": {
    "kernelspec": {
      "name": "python3",
      "language": "python",
      "display_name": "Python 3 (ipykernel)"
    }
  },
  "nbformat": 4,
  "nbformat_minor": 5
}